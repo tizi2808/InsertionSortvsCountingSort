{
 "cells": [
  {
   "cell_type": "markdown",
   "metadata": {},
   "source": [
    "# Insertion Sort vs Counting Sort\n",
    "###### Tiziano Talini - Matricola 7079207"
   ]
  },
  {
   "cell_type": "markdown",
   "metadata": {},
   "source": [
    "### Introduzione\n",
    "\n",
    "Nel contesto dell'informatica e dell'analisi degli algoritmi, il confronto tra diverse tecniche di ordinamento è fondamentale per comprendere l'efficienza di ciascun metodo in scenari differenti. In questo progetto, sono stati analizzati e confrontati due algoritmi di ordinamento: Insertion Sort e Counting Sort. L'obiettivo era quello di esplorare il funzionamento di entrambi e testarne le prestazioni su insiemi di dati di diverse dimensioni e caratteristiche. La differenza essenziale tra questi due algoritmi è che Insertion Sort è un algoritmo basato sui confronti, mentre Conting Sort conta il numero di occorrenze di ogni elemento e stabilisce sulla base di questo la loro posizione finale nell'array ordinato. I risultati ottenuti permettono di delineare quali algoritmi siano più adatti in base alla natura dei dati e ai requisiti di tempo ed efficienza di memoria."
   ]
  },
  {
   "cell_type": "markdown",
   "metadata": {},
   "source": [
    "### Insertion Sort\n",
    "\n",
    "Insertion Sort è un algoritmo di ordinamento semplice e intuitivo che imita il modo in cui molte persone ordinano manualmente. Questo algoritmo è di tipo in-place, il che significa che non richiede memoria aggiuntiva oltre a quella già utilizzata per memorizzare l'array da ordinare.\n",
    "\n",
    "Il funzionamento di Insertion Sort può essere descritto nei seguenti passi:\n",
    "\n",
    "1. Si assume che il primo elemento dell'array sia già ordinato.\n",
    "\n",
    "2. Si procede con il secondo elemento, confrontandolo con il primo. Se il secondo elemento è più piccolo, viene inserito nella posizione corretta, spostando l'elemento maggiore verso destra.\n",
    "\n",
    "3. Questo processo viene ripetuto per ogni elemento successivo, confrontandolo con gli elementi già ordinati e inserendolo nella posizione corretta.\n",
    "\n",
    "##### Caratteristiche:\n",
    "\n",
    "- **Complessità temporale**:\n",
    "    - caso migliore: _O(n)_ (array già ordinato)\n",
    "    - caso medio e peggiore: _O(n^2)_ (array randomico o ordinato al contrario)\n",
    "- **Complessità spaziale**: _O(1)_ (dato che ordina in-place)\n",
    "- **Stabilità**: l'algoritmo è stabile ovvero preserva l'ordine iniziale tra elementi uguali\n",
    "- Semplice da implementare\n",
    "- Inefficiente per insiemi di dati di grandi dimensioni a causa della complessità temporale quadratica\n",
    "\n",
    "Di seguito l'implementazione del codice:"
   ]
  },
  {
   "cell_type": "code",
   "execution_count": 2,
   "metadata": {},
   "outputs": [],
   "source": [
    "def InsertionSort(A):\n",
    "    for j in range(2,len(A)):\n",
    "        key = A[j]\n",
    "        i = j - 1\n",
    "        while i > 0 and A[i] > key:\n",
    "            A[i + 1] = A[i]\n",
    "            i = i - 1\n",
    "        A[i + 1] = key"
   ]
  },
  {
   "cell_type": "code",
   "execution_count": 3,
   "metadata": {},
   "outputs": [
    {
     "name": "stdout",
     "output_type": "stream",
     "text": [
      "[5, 1, 2, 3, 4, 5, 7]\n"
     ]
    }
   ],
   "source": [
    "A = [5, 3, 7, 4, 5, 1, 2]\n",
    "InsertionSort(A)\n",
    "print(A)"
   ]
  },
  {
   "cell_type": "markdown",
   "metadata": {},
   "source": [
    "### Counting Sort\n",
    "\n",
    "Counting Sort è un algoritmo di ordinamento non basato sui confronti, progettato per insiemi di dati con valori interi in un intervallo limitato. L’idea principale è quella di contare il numero di occorrenze di ciascun valore e utilizzare queste informazioni per determinare le posizioni degli elementi ordinati. L'algoritmo lavora creando un secondo array nel quale il valore dell'elemento da ordinare nel primo array funge da indice di posizione per il secondo array, mentre il valore di questo nuovo array è il numero di occorrenze del suddetto elemento. Questo rende l'algoritmo ideale per intervalli limitati di dati, dato che la complessità spaziale cresce linearmente con l'intervallo massimo di valori (max - min)\n",
    "\n",
    "I passi principali di Counting Sort sono:\n",
    "\n",
    "1. Identificare il valore massimo nell'array.\n",
    "2. Creare un array di conteggio con dimensione pari al valore massimo + 1, inizializzandolo a zero.\n",
    "3. Per ogni elemento nell'array originale, incrementare il valore corrispondente nell'array di conteggio.\n",
    "4. Calcolare le posizioni cumulative nell'array di conteggio.\n",
    "5. Usare l'array di conteggio per posizionare ciascun elemento dell'array originale nel risultato finale, mantenendo l'ordine.\n",
    "\n",
    "##### Caratteristiche:\n",
    "\n",
    " - Complessità temporale: O(n + k), dove _n_ è il numero di elementi e _k_ il valore massimo dell'array\n",
    " - Complessità spaziale: O(n + k) (Perché richiede memoria aggiuntiva per l'array di conteggio e l'array ordinato)\n",
    " - Stabilità: l'algoritmo è stabile\n",
    " - Molto efficiente per insiemi di dati di grandi dimensioni su un intervallo limitato di valori\n",
    " - Funziona solamente con dati discreti, come numeri interi, non puà fare il sorting di numeri razionali o reali\n",
    "\n",
    " Di seguito l'implementazione del codice:"
   ]
  },
  {
   "cell_type": "code",
   "execution_count": 10,
   "metadata": {},
   "outputs": [],
   "source": [
    "def CountingSort(arr):\n",
    "    max_val = max(arr)\n",
    "    counts = [0] * (max_val + 1)\n",
    "    sorted = [0] * len(arr)\n",
    "    for i in range(0, len(arr)):\n",
    "        counts[arr[i]] += 1\n",
    "    for i in range(1, max_val+1):\n",
    "        counts[i] = counts[i] + counts[i-1]\n",
    "    for key in arr[::-1]:\n",
    "        sorted[counts[key]-1] = key\n",
    "        counts[key] -= 1\n",
    "    return sorted"
   ]
  },
  {
   "cell_type": "code",
   "execution_count": 11,
   "metadata": {},
   "outputs": [
    {
     "name": "stdout",
     "output_type": "stream",
     "text": [
      "[1, 2, 2, 3, 3, 4, 8]\n"
     ]
    }
   ],
   "source": [
    "A = [4, 2, 2, 8, 3, 3, 1]\n",
    "sorted = CountingSort(A)\n",
    "print(sorted)"
   ]
  },
  {
   "cell_type": "markdown",
   "metadata": {},
   "source": [
    "### Descrizione dei Test\n",
    "Per mettere alla prova le prestazioni dei due algoritmi effettueremo dei test che andranno ad analizzare il loro comportamento di fronte a diversi tipi di input di dimensioni diverse.\n",
    "\n",
    "Ci serviremo dunque di una funzione che avrà il compito di generare dei grafici che mostrino l'andamento asintotico degli algoritmi di ordinamento. La funzione prende in ingresso diversi parametri:\n",
    "\n",
    "- _algType_ indica su quale algoritmo viene eseguito il test (0 per il Selection-Sort, 1 per il Merge-Sort);\n",
    "- _insertType_ indica il metodo di inserimento dei valori (0 per quello sequenziale, 1 per quello casuale);\n",
    "- _arrayDim_ rappresenta la dimensione massima dell'array su cui eseguiamo il test;\n",
    "- _plot_ è un booleano che serve per decidere di stampare subito i risultati o salvarli per utilizzarli in un secondo momento.\n",
    "\n",
    "A seconda dei parametri in ingresso, viene allocato un array progressivamente più grande ordinato casualmente o randomicamente, poi viene chiamato uno o l'altro algoritmo di ordinamento e ne viene misurato il tempo di esecuzione. La formula utilizzata per ottenere i punti del grafico è:\n"
   ]
  },
  {
   "cell_type": "code",
   "execution_count": 12,
   "metadata": {},
   "outputs": [],
   "source": [
    "import matplotlib.pyplot as plt\n",
    "import numpy as np\n",
    "import time\n",
    "import random\n",
    "\n",
    "def plotSortGraph(algType, insertType, arrayDim, plot=True):\n",
    "    x, y = [], []\n",
    "    for i in range(1, arrayDim, 5):\n",
    "        x.append(i)\n",
    "        A = np.arange(i) if insertType == 0 else random.sample(range(i), i)\n",
    "        if algType == 0:\n",
    "            start = time.perf_counter()\n",
    "            InsertionSort(A)\n",
    "            end = time.perf_counter()\n",
    "        else:\n",
    "            start = time.perf_counter()\n",
    "            CountingSort(A)\n",
    "            end = time.perf_counter()\n",
    "        z = y[-1] if (len(y) != 0) else 0\n",
    "        y.append((end - start) / i + z)\n",
    "    if plot:\n",
    "        plt.plot(x, y)\n",
    "        title = 'Insertion-Sort' if algType == 0 else 'Counting-Sort'\n",
    "        title += ' on Ordered List ' if insertType == 0 else ' on Randomized List '\n",
    "        title += str(arrayDim)\n",
    "        plt.title(title)\n",
    "        plt.show()\n",
    "    else:\n",
    "        return x, y"
   ]
  },
  {
   "cell_type": "markdown",
   "metadata": {},
   "source": [
    "Effettuiamo adesso i test per array di dimensioni 50, 100, 200, 500 e 1000 elementi\n",
    "\n",
    "#### 50 elementi"
   ]
  }
 ],
 "metadata": {
  "kernelspec": {
   "display_name": "Python 3",
   "language": "python",
   "name": "python3"
  },
  "language_info": {
   "codemirror_mode": {
    "name": "ipython",
    "version": 3
   },
   "file_extension": ".py",
   "mimetype": "text/x-python",
   "name": "python",
   "nbconvert_exporter": "python",
   "pygments_lexer": "ipython3",
   "version": "3.10.12"
  }
 },
 "nbformat": 4,
 "nbformat_minor": 2
}
